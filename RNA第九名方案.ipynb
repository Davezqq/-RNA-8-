{
 "cells": [
  {
   "cell_type": "markdown",
   "metadata": {
    "collapsed": false
   },
   "source": [
    "# 螺旋桨RNA结构预测竞赛第9名方案\n",
    "## 项目目录树结构\n",
    "\t.\n",
    "\t├── data（数据集保存位置）\n",
    "\t│   └── data68535\n",
    "\t│       ├── data_explanation.txt\n",
    "\t│       ├── dev.txt （验证集）\n",
    "\t│       ├── test_nolabel.txt （A榜测试集）\n",
    "\t│       └── train.txt （训练集）\n",
    "\t├── predictB（B榜测试结果文件输出）\n",
    "\t│   ├── 1.predict.txt\n",
    "    \t...\n",
    "    │   ├── 112.predict.txt\n",
    "\t├── pretrain（checkpoint保存文件）\n",
    "\t│   └── model3.717\n",
    "\t└── work\t\n",
    "    \t└── B_board_112_seqs.txt（B榜测试集）\n",
    "        "
   ]
  },
  {
   "cell_type": "code",
   "execution_count": null,
   "metadata": {
    "collapsed": false
   },
   "outputs": [
    {
     "name": "stderr",
     "output_type": "stream",
     "text": [
      "/opt/conda/envs/python35-paddle120-env/lib/python3.7/site-packages/matplotlib/__init__.py:107: DeprecationWarning: Using or importing the ABCs from 'collections' instead of from 'collections.abc' is deprecated, and in 3.8 it will stop working\n",
      "  from collections import MutableMapping\n",
      "/opt/conda/envs/python35-paddle120-env/lib/python3.7/site-packages/matplotlib/rcsetup.py:20: DeprecationWarning: Using or importing the ABCs from 'collections' instead of from 'collections.abc' is deprecated, and in 3.8 it will stop working\n",
      "  from collections import Iterable, Mapping\n",
      "/opt/conda/envs/python35-paddle120-env/lib/python3.7/site-packages/matplotlib/colors.py:53: DeprecationWarning: Using or importing the ABCs from 'collections' instead of from 'collections.abc' is deprecated, and in 3.8 it will stop working\n",
      "  from collections import Sized\n",
      "2021-05-12 17:47:01,893 - INFO - font search path ['/opt/conda/envs/python35-paddle120-env/lib/python3.7/site-packages/matplotlib/mpl-data/fonts/ttf', '/opt/conda/envs/python35-paddle120-env/lib/python3.7/site-packages/matplotlib/mpl-data/fonts/afm', '/opt/conda/envs/python35-paddle120-env/lib/python3.7/site-packages/matplotlib/mpl-data/fonts/pdfcorefonts']\n",
      "2021-05-12 17:47:02,251 - INFO - generated new fontManager\n"
     ]
    }
   ],
   "source": [
    "import pandas as pd\n",
    "import paddle\n",
    "import numpy as np\n",
    "from tqdm import tqdm\n",
    "from matplotlib import pyplot as plt\n",
    "import math\n",
    "import os,shutil"
   ]
  },
  {
   "cell_type": "markdown",
   "metadata": {
    "collapsed": false
   },
   "source": [
    "说明：由于操作不当原因，在保存版本之后未能及时保存最优checkpoint文件，十分抱歉！并随项目附上仅次于最优的checkpoint"
   ]
  },
  {
   "cell_type": "markdown",
   "metadata": {
    "collapsed": false
   },
   "source": [
    "# 文件预处理函数——filepreprocess(filename,usage)\n",
    "#### 首先对给定的数据集进行格式化读入，在读入的同时将RNA序列的碱基和预测二维序列进行编码，以便于后期Embedding。<br/>\n",
    "#### 碱基编码映射关系如下\n",
    "|  碱基种类   | 编码映射  |\n",
    "|:--:|:--:|\n",
    "| A  | 0 |\n",
    "| G  | 1 |\n",
    "| C\t | 2 |  \n",
    "| U  | 3 |\n",
    "| Padding|4|\n",
    "\n",
    "#### 二维序列符号编码映射关系如下\n",
    "|  二维序列符号   | 编码映射  |\n",
    "|:--:|:--:|\n",
    "| .  | 0 |\n",
    "| (  | 1 |\n",
    "| )\t | 2 |  \n",
    "|Padding|3|\n",
    "\n",
    "#### 其中Padding编码用于后面在构建训练集时拼接到统一长度，此处并未使用"
   ]
  },
  {
   "cell_type": "code",
   "execution_count": null,
   "metadata": {
    "collapsed": false
   },
   "outputs": [],
   "source": [
    "#文件预处理函数\n",
    "def filepreprocess(filename,usage):\n",
    "    file_handle = open(filename,'r')\n",
    "    lines = file_handle.readlines()\n",
    "    rna_list = []\n",
    "    rna_twodimen = []\n",
    "    rna_out = []\n",
    "    match_idx = []\n",
    "    tmp_rnaout = []\n",
    "    i=0\n",
    "    while i<len(lines):\n",
    "        if lines[i].find('>') != -1:\n",
    "            tmp_rnaout = []\n",
    "            tmp_two = []\n",
    "            i+=1\n",
    "            tmprna = lines[i].replace('A','0')\n",
    "            tmprna = tmprna.replace('G','1')\n",
    "            tmprna = tmprna.replace('C','2')\n",
    "            tmprna = tmprna.replace('U','3')\n",
    "            tmprna=tmprna.strip('\\n')\n",
    "            tmprna = [ int(x) for x in list(tmprna)]\n",
    "            rna_list.append(tmprna)\n",
    "            i+=1\n",
    "            tmp_two = lines[i].replace('.','0')\n",
    "            tmp_two = tmp_two.replace('(','1')\n",
    "            tmp_two = tmp_two.replace(')','2')\n",
    "            tmp_two=tmp_two.strip('\\n') \n",
    "            tmp_two = [ int(x) for x in list(tmp_two)]\n",
    "            rna_twodimen.append(tmp_two)\n",
    "            i+=1\n",
    "            continue\n",
    "        if usage!='test':\n",
    "            if lines[i]!='\\n':\n",
    "                tmp_rnaout.append(float(lines[i].split()[1]))\n",
    "            else:\n",
    "                rna_out.append(tmp_rnaout)\n",
    "                tmp_rnaout=[]\n",
    "                tmp_two = []\n",
    "            i+=1\n",
    "        else:\n",
    "            i+=1\n",
    "    return rna_list,rna_twodimen,rna_out"
   ]
  },
  {
   "cell_type": "markdown",
   "metadata": {
    "collapsed": false
   },
   "source": [
    "请点击[此处](https://ai.baidu.com/docs#/AIStudio_Project_Notebook/a38e5576)查看本环境基本用法.  <br>\n",
    "Please click [here ](https://ai.baidu.com/docs#/AIStudio_Project_Notebook/a38e5576) for more detailed instructions. "
   ]
  },
  {
   "cell_type": "code",
   "execution_count": null,
   "metadata": {
    "collapsed": false
   },
   "outputs": [],
   "source": [
    "#分别处理训练集与验证集\n",
    "train_rna_list,train_rna_twodimen,train_rna_out= filepreprocess('data/data68535/train.txt','train')\n",
    "valid_rna_list,valid_rna_twodimen,valid_rna_out= filepreprocess('data/data68535/dev.txt','valid')"
   ]
  },
  {
   "cell_type": "code",
   "execution_count": null,
   "metadata": {
    "collapsed": false
   },
   "outputs": [
    {
     "name": "stdout",
     "output_type": "stream",
     "text": [
      "4750\n"
     ]
    }
   ],
   "source": [
    "print(len(train_rna_list))"
   ]
  },
  {
   "cell_type": "code",
   "execution_count": null,
   "metadata": {
    "collapsed": false
   },
   "outputs": [],
   "source": [
    "from paddle.io import Dataset\n",
    "#建立Dataset类，用于分批次读取数据\n",
    "class MyDataset(Dataset):\n",
    "    def __init__(self,maxlen,num_samples,rna_list,rna_twodimen,rna_out):\n",
    "        super(MyDataset, self).__init__()\n",
    "        self.maxlen = maxlen\n",
    "        self.rna_list = rna_list\n",
    "        self.rna_twodimen = rna_twodimen\n",
    "        self.rna_out = rna_out\n",
    "        self.num_samples=num_samples\n",
    "\n",
    "    def __getitem__(self, index):\n",
    "        tmplen = len(self.rna_list[index])\n",
    "        #通过padding使长度统一\n",
    "        tmprna_sequence = self.rna_list[index]+[4]*(self.maxlen-tmplen)\n",
    "        tmprna_twodimen = self.rna_twodimen[index]+[3]*(self.maxlen-tmplen)\n",
    "        label = self.rna_out[index]+[0]*(self.maxlen-tmplen)\n",
    "        return np.array(tmprna_sequence),np.array(tmprna_twodimen), np.array(label),tmplen\n",
    "        \n",
    "    def __len__(self):\n",
    "        return self.num_samples\n"
   ]
  },
  {
   "cell_type": "markdown",
   "metadata": {
    "collapsed": false
   },
   "source": [
    "# 模型构建思路\n",
    "#### 根据赛题描述，我们所能够拿到的数据有两类，一类是碱基序列，另一类是二维预测序列，碱基序列作为二维序列预测的基础，是需要考虑的第一个特征。<br/>\n",
    "#### 考虑到碱基序列在进行折叠时，在不同的上下文环境下发生的折叠种类，概率都不尽相同（如下图所示），因此在建模时不仅仅要考虑序列学习的问题，而且要考虑碱基的前后不同排列。"
    "![](https://ai-studio-static-online.cdn.bcebos.com/2d8998db45374da5aa27a6be35776e9408d68e76beda410882f0e6bad43e0631)\n",
    "#### 一般而言考虑将碱基和二维结构两者进行embedding后，拼接并送入LSTM等进行学习，但是我们认为两者序列包含的信息层次有所区分，碱基序列作为最原始的信息，其包含的是不同种类的碱基之间的邻接关系，而二维结构预测序列则上升了一个层次，忽视了碱基的种类，仅考虑位点之间的邻接关系。同时通过分析数据可知，不成对概率与二维结构中位点的种类有着较强的相关性，因此我们考虑先碱基，后二维结构辅助，分离步骤的双向LSTM来解决该问题。\n",
    "#### 具体程序框图如下：\n",
    "![](https://ai-studio-static-online.cdn.bcebos.com/26cf23a5bb70458b9fe59d86b2a6dafb6471f37b9509403181d45627c453497f)\n",
    "#### 可以看到我们在embedding之后首先对碱基序列进行序列建模，然后将二维结构编码后的序列与碱基序列BiLSTM结果进行拼接，将拼接结果送入另一个BiLSTM进行学习，最终得到该位置特征的representation，输入全连接层进行降维后，利用softmax特性归一化概率并输出。"
   ]
  },
  {
   "cell_type": "code",
   "execution_count": null,
   "metadata": {
    "collapsed": false
   },
   "outputs": [],
   "source": [
    "import paddle.fluid as fluid\n",
    "import paddle.nn as nn\n",
    "import paddle\n",
    "class MyModel(paddle.nn.Layer):\n",
    "    def __init__(self):\n",
    "        super(MyModel, self).__init__()\n",
    "        #RNA-Embedding\n",
    "        self.x1embed = paddle.nn.Embedding(num_embeddings=5, embedding_dim=64,padding_idx=4)\n",
    "        #LinearFold-Embedding\n",
    "        self.x2embed = paddle.nn.Embedding(num_embeddings=4, embedding_dim=64,padding_idx=3)\n",
    "        #仅考虑碱基BiLSTM\n",
    "        self.lstm1 = nn.LSTM(64,32,4,direction='bidirect')\n",
    "        #拼接后整体的BiLSTM\n",
    "        self.lstm2 = nn.LSTM(128,64,4,direction='bidirect')\n",
    "        self.linear1=nn.Linear(128,64)\n",
    "        self.linear3 = nn.Linear(64,2)\n",
    "        self.softmax = nn.Softmax(axis=-1)\n",
    "        self.relu = nn.LeakyReLU(negative_slope=0.1)\n",
    "        self.sigmoid = nn.Sigmoid()\n",
    "    def forward(self, x1,x2,x3):\n",
    "        #x1：碱基序列\n",
    "        #x2：二维结构序列\n",
    "        #x3：序列长度\n",
    "        x1_embed = self.x1embed(x1)\n",
    "        x2_embed = self.x2embed(x2)\n",
    "        total1,(_,_)= self.lstm1(x1_embed,sequence_length=x3)\n",
    "        total = paddle.concat([total1,x2_embed],axis=-1)\n",
    "        total2,(_,_)=  self.lstm2(total,sequence_length=x3)\n",
    "        out = self.linear1(total2)\n",
    "        out = self.relu(out)\n",
    "        out = self.linear3(out)\n",
    "        out = self.softmax(out)\n",
    "        return out[:,:,0]\n"
   ]
  },
  {
   "cell_type": "code",
   "execution_count": null,
   "metadata": {
    "collapsed": false
   },
   "outputs": [],
   "source": [
    "\n",
    "dataset = MyDataset(500,4750,train_rna_list,train_rna_twodimen,train_rna_out)\n",
    "validdataset = MyDataset(500,250,valid_rna_list,valid_rna_twodimen,valid_rna_out)"
   ]
  },
  {
   "cell_type": "markdown",
   "metadata": {
    "collapsed": false
   },
   "source": [
    "# 模型训练与测试\n",
    "### 优化器：Adam优化器，学习率设置为0.0001<br/>\n",
    "### 损失函数：损失函数为经典的MSE(平均平方误差)函数<br/>\n",
    "### minibatching：batch_size为64<br/>\n",
    "### 训练方式：运行定义训练函数的cell之后，直接运行下面包含train函数的cell即可\n",
    "### 测试方式：运行定义test函数的cell以及应用test函数的cell即可"
   ]
  },
  {
   "cell_type": "code",
   "execution_count": null,
   "metadata": {
    "collapsed": false
   },
   "outputs": [],
   "source": [
    "#定义训练函数\n",
    "def train(dataset,epoch_num,valid_rna_list,valid_rna_twodimen,valid_rna_out):\n",
    "    print('训练开始')\n",
    "    #实例化模型\n",
    "    model = MyModel()\n",
    "    #将模型转换为训练模式\n",
    "    model.train()\n",
    "    #设置优化器，学习率，并且把模型参数给优化器\n",
    "    opt = paddle.optimizer.Adam(learning_rate=0.0001,parameters=model.parameters())\n",
    "    #设置损失函数\n",
    "    mse_loss = paddle.nn.MSELoss()\n",
    "    #设置数据读取器\n",
    "    data_reader = paddle.io.DataLoader(dataset,\n",
    "                        batch_size=64,\n",
    "                        shuffle=True)\n",
    "    iter_epoch = []\n",
    "    best_valid_loss = 1000\n",
    "    best_path = None\n",
    "    history_loss = []\n",
    "    for epoch in range(epoch_num):\n",
    "        print(epoch)\n",
    "        model.train()\n",
    "        tmp_epoch_loss = []\n",
    "        for batch_id, data in enumerate(tqdm(data_reader())):\n",
    "            # print(data)\n",
    "            x1 = data[0]\n",
    "            x2 = data[1]\n",
    "            y = paddle.to_tensor(data[2],dtype='float32')\n",
    "            x3 = data[3]\n",
    "            out = model(x1,x2,x3)\n",
    "            avg_loss= 0\n",
    "            for l in range(x1.shape[0]):\n",
    "                avg_loss += mse_loss(out[l,:int(x3[l].numpy()[0])],y[l,:int(x3[l].numpy()[0])])\n",
    "            avg_loss /= x1.shape[0]\n",
    "            avg_loss.backward()\n",
    "            tmp_epoch_loss.append(avg_loss.numpy()[0])\n",
    "            opt.step()\n",
    "            opt.clear_grad()\n",
    "        print(f'epoch {epoch}:loss:{np.mean(tmp_epoch_loss)}')\n",
    "        iter_epoch.append(epoch)\n",
    "        history_loss.append(np.mean(tmp_epoch_loss))\n",
    "        model.eval()\n",
    "        valid_avg_loss = 0\n",
    "        for i in tqdm(range(len(valid_rna_list))):\n",
    "            x1 = paddle.to_tensor(np.array(valid_rna_list[i]).reshape((1,-1)),dtype='int32')\n",
    "            x2 = paddle.to_tensor(np.array(valid_rna_twodimen[i]).reshape((1,-1)),dtype='int32')\n",
    "            y = paddle.to_tensor(np.array(valid_rna_out[i]),dtype='float32')\n",
    "            out = model(x1,x2,paddle.to_tensor([len(valid_rna_list[i])]))\n",
    "            valid_avg_loss+= mse_loss(out,y)\n",
    "        tmp_valid_loss = valid_avg_loss.numpy()[0]/len(valid_rna_list)\n",
    "        print(f'epoch {epoch}:val_loss:{tmp_valid_loss}')\n",
    "        if tmp_valid_loss<best_valid_loss:\n",
    "            best_valid_loss = tmp_valid_loss\n",
    "            if best_path is not None:\n",
    "                if os.path.exists(best_path):\n",
    "                        os.remove(best_path)\n",
    "            best_path=f'pretrain/model_val_{best_valid_loss}'\n",
    "            paddle.save(model.state_dict(),best_path)\n",
    "    #绘制loss\n",
    "    plt.plot(iter_epoch,history_loss, label = 'loss')\n",
    "    plt.legend()\n",
    "    plt.xlabel('iters')\n",
    "    plt.ylabel('Loss')\n",
    "    plt.show()"
   ]
  },
  {
   "cell_type": "code",
   "execution_count": 14,
   "metadata": {
    "collapsed": false
   },
   "outputs": [],
   "source": [
    "#运行此cell进行训练\n",
    "train(dataset,12,valid_rna_list,valid_rna_twodimen,valid_rna_out)"
   ]
  },
  {
   "cell_type": "code",
   "execution_count": 15,
   "metadata": {
    "collapsed": false
   },
   "outputs": [],
   "source": [
    "#预处理测试集文件\n",
    "test_rna_list,test_rna_twodimen,test_rna_out= filepreprocess('work/B_board_112_seqs.txt','test')"
   ]
  },
  {
   "cell_type": "markdown",
   "metadata": {
    "collapsed": false
   },
   "source": []
  },
  {
   "cell_type": "code",
   "execution_count": null,
   "metadata": {
    "collapsed": false
   },
   "outputs": [],
   "source": [
    "#定义测试函数\n",
    "def test(test_rna_list,test_rna_twodimen):\n",
    "    print('预测开始')\n",
    "    #实例化模型\n",
    "    model = MyModel()\n",
    "    #设置读取的checkpoint\n",
    "    layer_state_dict = paddle.load('pretrain/model3.717')\n",
    "    model.load_dict(layer_state_dict)\n",
    "    model.eval()  \n",
    "    total_loss = []\n",
    "    datas = []\n",
    "    for i in tqdm(range(len(test_rna_list))):\n",
    "        out = model(paddle.Tensor(np.array([test_rna_list[i]]).reshape((1,-1))),paddle.Tensor(np.array([test_rna_twodimen[i]]).reshape((1,-1))),paddle.to_tensor([len(test_rna_list[i])]))\n",
    "        out = out.numpy()\n",
    "        out = np.reshape(out,(-1,1))\n",
    "        np.savetxt(f'predictB/{i+1}.predict.txt',out,fmt='%.04f')"
   ]
  },
  {
   "cell_type": "code",
   "execution_count": null,
   "metadata": {
    "collapsed": false
   },
   "outputs": [
    {
     "name": "stderr",
     "output_type": "stream",
     "text": [
      "  1%|          | 1/112 [00:00<00:12,  9.24it/s]"
     ]
    },
    {
     "name": "stdout",
     "output_type": "stream",
     "text": [
      "预测开始\n"
     ]
    },
    {
     "name": "stderr",
     "output_type": "stream",
     "text": [
      "  3%|▎         | 3/112 [00:00<00:11,  9.79it/s]100%|██████████| 112/112 [00:06<00:00, 16.79it/s]\n"
     ]
    }
   ],
   "source": [
    "#测试请运行此cell\n",
    "test(test_rna_list,test_rna_twodimen)"
   ]
  }
 ],
 "metadata": {
  "kernelspec": {
   "display_name": "PaddlePaddle 2.0.0b0 (Python 3.5)",
   "language": "python",
   "name": "py35-paddle1.2.0"
  },
  "language_info": {
   "codemirror_mode": {
    "name": "ipython",
    "version": 3
   },
   "file_extension": ".py",
   "mimetype": "text/x-python",
   "name": "python",
   "nbconvert_exporter": "python",
   "pygments_lexer": "ipython3",
   "version": "3.7.4"
  }
 },
 "nbformat": 4,
 "nbformat_minor": 1
}
