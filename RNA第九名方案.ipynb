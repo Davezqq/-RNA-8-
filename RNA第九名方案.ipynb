{
 "cells": [
  {
   "cell_type": "code",
   "execution_count": null,
   "metadata": {
    "collapsed": false
   },
   "outputs": [
    {
     "name": "stderr",
     "output_type": "stream",
     "text": [
      "/opt/conda/envs/python35-paddle120-env/lib/python3.7/site-packages/paddle/fluid/layers/utils.py:26: DeprecationWarning: `np.int` is a deprecated alias for the builtin `int`. To silence this warning, use `int` by itself. Doing this will not modify any behavior and is safe. When replacing `np.int`, you may wish to use e.g. `np.int64` or `np.int32` to specify the precision. If you wish to review your current use, check the release note link for additional information.\n",
      "Deprecated in NumPy 1.20; for more details and guidance: https://numpy.org/devdocs/release/1.20.0-notes.html#deprecations\n",
      "  def convert_to_list(value, n, name, dtype=np.int):\n"
     ]
    }
   ],
   "source": [
    "import pandas as pd\n",
    "import paddle\n",
    "import numpy as np\n",
    "from tqdm import tqdm\n",
    "from matplotlib import pyplot as plt\n",
    "import math\n",
    "import os,shutil"
   ]
  },
  {
   "cell_type": "markdown",
   "metadata": {
    "collapsed": false
   },
   "source": [
    "## 由于操作不当原因，在保存版本之后未能及时保存最优checkpoint文件，十分抱歉！并随项目附上非最优的checkpoint"
   ]
  },
  {
   "cell_type": "code",
   "execution_count": null,
   "metadata": {
    "collapsed": false
   },
   "outputs": [],
   "source": [
    "def filepreprocess(filename,usage):\n",
    "    file_handle = open(filename,'r')\n",
    "    lines = file_handle.readlines()\n",
    "    rna_list = []\n",
    "    rna_twodimen = []\n",
    "    rna_out = []\n",
    "    match_idx = []\n",
    "    tmp_rnaout = []\n",
    "    i=0\n",
    "    while i<len(lines):\n",
    "        # print(i)\n",
    "        if lines[i].find('>id') != -1:\n",
    "            # print(lines[i])\n",
    "            tmp_rnaout = []\n",
    "            tmp_two = []\n",
    "            i+=1\n",
    "            tmprna = lines[i].replace('A','0')\n",
    "            tmprna = tmprna.replace('G','1')\n",
    "            tmprna = tmprna.replace('C','2')\n",
    "            tmprna = tmprna.replace('U','3')\n",
    "            tmprna=tmprna.strip('\\n')\n",
    "            tmprna = [ int(x) for x in list(tmprna)]\n",
    "            rna_list.append(tmprna)\n",
    "            # tmprnaprt = linear_rna.linear_partition_v(lines[i].strip('\\n'),bp_cutoff=0.7)\n",
    "            # print(tmprnaprt)\n",
    "            # return\n",
    "            i+=1\n",
    "            tmp_two = lines[i].replace('.','0')\n",
    "            tmp_two = tmp_two.replace('(','1')\n",
    "            tmp_two = tmp_two.replace(')','2')\n",
    "            tmp_two=tmp_two.strip('\\n') \n",
    "            tmp_two = [ int(x) for x in list(tmp_two)]\n",
    "            rna_twodimen.append(tmp_two)\n",
    "            i+=1\n",
    "            continue\n",
    "        if usage!='test':\n",
    "            if lines[i]!='\\n':\n",
    "                # print(lines[i])\n",
    "            # print(lines[i].split())\n",
    "                tmp_rnaout.append(float(lines[i].split()[1]))\n",
    "            else:\n",
    "                rna_out.append(tmp_rnaout)\n",
    "                # if usage=='train':\n",
    "                #     for epoch in range(4):\n",
    "                #         rna_out.append(tmp_rnaout)\n",
    "                tmp_rnaout=[]\n",
    "                tmp_two = []\n",
    "            i+=1\n",
    "        else:\n",
    "            i+=1\n",
    "    return rna_list,rna_twodimen,rna_out"
   ]
  },
  {
   "cell_type": "code",
   "execution_count": null,
   "metadata": {
    "collapsed": false
   },
   "outputs": [],
   "source": [
    "def filepreprocessBrank(filename,usage):\n",
    "    file_handle = open(filename,'r')\n",
    "    lines = file_handle.readlines()\n",
    "    rna_list = []\n",
    "    rna_twodimen = []\n",
    "    rna_out = []\n",
    "    match_idx = []\n",
    "    tmp_rnaout = []\n",
    "    i=0\n",
    "    while i<len(lines):\n",
    "        # print(i)\n",
    "        if lines[i].find('>') != -1:\n",
    "            # print(lines[i])\n",
    "            tmp_rnaout = []\n",
    "            tmp_two = []\n",
    "            i+=1\n",
    "            tmprna = lines[i].replace('A','0')\n",
    "            tmprna = tmprna.replace('G','1')\n",
    "            tmprna = tmprna.replace('C','2')\n",
    "            tmprna = tmprna.replace('U','3')\n",
    "            tmprna=tmprna.strip('\\n')\n",
    "            tmprna = [ int(x) for x in list(tmprna)]\n",
    "            rna_list.append(tmprna)\n",
    "            # tmprnaprt = linear_rna.linear_partition_v(lines[i].strip('\\n'),bp_cutoff=0.7)\n",
    "            # print(tmprnaprt)\n",
    "            # return\n",
    "            i+=1\n",
    "            tmp_two = lines[i].replace('.','0')\n",
    "            tmp_two = tmp_two.replace('(','1')\n",
    "            tmp_two = tmp_two.replace(')','2')\n",
    "            tmp_two=tmp_two.strip('\\n') \n",
    "            tmp_two = [ int(x) for x in list(tmp_two)]\n",
    "            # tmp_match_idx = getmatchidx(tmprna,tmp_two)\n",
    "            # match_idx.append(tmp_match_idx)\n",
    "            rna_twodimen.append(tmp_two)\n",
    "            # if usage=='train':\n",
    "            #     for epoch in range(4):\n",
    "            #         tmp_seq_auged,tmp_twodimen_auged = dataaugment(tmprna,tmp_two,0.2)\n",
    "            #         rna_list.append(tmp_seq_auged)\n",
    "            #         rna_twodimen.append(tmp_twodimen_auged)\n",
    "            i+=1\n",
    "            continue\n",
    "        if usage!='test':\n",
    "            if lines[i]!='\\n':\n",
    "                # print(lines[i])\n",
    "            # print(lines[i].split())\n",
    "                tmp_rnaout.append(float(lines[i].split()[1]))\n",
    "            else:\n",
    "                rna_out.append(tmp_rnaout)\n",
    "                # if usage=='train':\n",
    "                #     for epoch in range(4):\n",
    "                #         rna_out.append(tmp_rnaout)\n",
    "                tmp_rnaout=[]\n",
    "                tmp_two = []\n",
    "            i+=1\n",
    "        else:\n",
    "            i+=1\n",
    "    return rna_list,rna_twodimen,rna_out"
   ]
  },
  {
   "cell_type": "markdown",
   "metadata": {
    "collapsed": false
   },
   "source": [
    "请点击[此处](https://ai.baidu.com/docs#/AIStudio_Project_Notebook/a38e5576)查看本环境基本用法.  <br>\n",
    "Please click [here ](https://ai.baidu.com/docs#/AIStudio_Project_Notebook/a38e5576) for more detailed instructions. "
   ]
  },
  {
   "cell_type": "code",
   "execution_count": null,
   "metadata": {
    "collapsed": false
   },
   "outputs": [],
   "source": [
    "train_rna_list,train_rna_twodimen,train_rna_out= filepreprocess('data/data68535/train.txt','train')\n",
    "valid_rna_list,valid_rna_twodimen,valid_rna_out= filepreprocess('data/data68535/dev.txt','valid')"
   ]
  },
  {
   "cell_type": "code",
   "execution_count": null,
   "metadata": {
    "collapsed": false
   },
   "outputs": [],
   "source": [
    "print(len(train_rna_list))"
   ]
  },
  {
   "cell_type": "code",
   "execution_count": null,
   "metadata": {
    "collapsed": false
   },
   "outputs": [],
   "source": [
    "from paddle.io import Dataset\n",
    "class MyDataset(Dataset):\n",
    "    def __init__(self,maxlen,num_samples,rna_list,rna_twodimen,rna_out):\n",
    "        super(MyDataset, self).__init__()\n",
    "        self.maxlen = maxlen\n",
    "        self.rna_list = rna_list\n",
    "        self.rna_twodimen = rna_twodimen\n",
    "        self.rna_out = rna_out\n",
    "        self.num_samples=num_samples\n",
    "\n",
    "    def __getitem__(self, index):\n",
    "        tmplen = len(self.rna_list[index])\n",
    "        tmprna_sequence = self.rna_list[index]+[4]*(self.maxlen-tmplen)\n",
    "        tmprna_twodimen = self.rna_twodimen[index]+[3]*(self.maxlen-tmplen)\n",
    "        # tmprna_sequence = self.rna_list[index]\n",
    "        # tmprna_twodimen = self.rna_twodimen[index]\n",
    "        # tmp_match_idx = self.match_idx[index]\n",
    "        # tmprna_sequence = self.rna_list[index]\n",
    "        # tmprna_twodimen = self.rna_twodimen[index]\n",
    "        label = self.rna_out[index]+[0]*(self.maxlen-tmplen)\n",
    "        # label = self.rna_out[index]\n",
    "        # rna_sequence_after = []\n",
    "        # rna_sequence_before = []\n",
    "        # rna_twodimen_after = []\n",
    "        # rna_twodimen_before = []\n",
    "        # rna_jianji = []\n",
    "        # rna_twodemen = []\n",
    "        # for j in range(tmplen):\n",
    "        #     tmp_after_seq = self.rna_list[j+1:]+[4]*(self.maxlen-tmplen-j)\n",
    "        #     tmp_before_seq = self.rna_list[:j]+[4]*(self.maxlen-j)\n",
    "        #     tmp_after_twodimen = self.rna_twodimen[j+1:]+[3]*(self.maxlen-tmplen-j)\n",
    "        #     tmp_before_twodimen = self.rna_twodimen[:j]+[3]*(self.maxlen-j)\n",
    "        #     tmp_jianji = self.rna_list[j]\n",
    "        #     tmp_twodimen = self.rna_twodimen[j]\n",
    "        #     rna_sequence_after.append(tmp_after_seq)\n",
    "        #     rna_sequence_before.append(tmp_before_seq)\n",
    "        #     rna_twodimen_after.append(tmp_after_twodimen)\n",
    "        #     rna_twodimen_before.append(tmp_before_twodimen)\n",
    "        #     rna_jianji.append(tmp_jianji)\n",
    "        #     rna_twodemen.append(tmp_twodimen)\n",
    "        return np.array(tmprna_sequence),np.array(tmprna_twodimen), np.array(label),tmplen\n",
    "        # return np.array(rna_sequence_after),np.array(rna_sequence_before),np.array(rna_twodimen_after),np.array(rna_sequence_after),np.array(rna_jianji),np.array(rna_twodemen),np.array(label),tmplen\n",
    "\n",
    "    def __len__(self):\n",
    "        return self.num_samples\n"
   ]
  },
  {
   "cell_type": "code",
   "execution_count": null,
   "metadata": {
    "collapsed": false
   },
   "outputs": [],
   "source": [
    "import paddle.fluid as fluid\n",
    "import paddle.nn as nn\n",
    "import paddle\n",
    "class MyModel(paddle.nn.Layer):\n",
    "    def __init__(self):\n",
    "    # 初始化父类中的一些参数\n",
    "        super(MyModel, self).__init__()\n",
    "        self.x1embed = paddle.nn.Embedding(num_embeddings=5, embedding_dim=64,padding_idx=4)\n",
    "        self.x2embed = paddle.nn.Embedding(num_embeddings=4, embedding_dim=64,padding_idx=3)\n",
    "        self.lstm1 = nn.LSTM(64,32,4,direction='bidirect')\n",
    "        self.lstm2 = nn.LSTM(128,64,4,direction='bidirect')\n",
    "        self.lstm4 = nn.LSTM(25,64,4,direction='bidirect')\n",
    "        # self.lstm2 = nn.LSTM(64,32,4)\n",
    "        # self.lstm2 = nn.LSTM(32,16,2)\n",
    "        # self.fc1=paddle.fluid.layers.fc((64,32))\n",
    "        # self.linear1=nn.Linear(192,64)\n",
    "        self.linear1=nn.Linear(128,64)\n",
    "        # self.linear2=nn.Linear(64,32)\n",
    "        self.linear3 = nn.Linear(64,2)\n",
    "        self.softmax = nn.Softmax(axis=-1)\n",
    "        self.relu = nn.LeakyReLU(negative_slope=0.1)\n",
    "        self.sigmoid = nn.Sigmoid()\n",
    "    def forward(self, x1,x2,x3):\n",
    "        x1_embed = self.x1embed(x1)\n",
    "        x2_embed = self.x2embed(x2)\n",
    "        # x1_embed = paddle.nn.functional.normalize(x1_embed,axis=-1)\n",
    "        # x1_embed = paddle.fluid.layers.add_position_encoding(x1_embed,alpha=1.0,beta=1.0)\n",
    "        total1,(_,_)= self.lstm1(x1_embed,sequence_length=x3)\n",
    "        total = paddle.concat([total1,x2_embed],axis=-1)\n",
    "        total2,(_,_)=  self.lstm2(total,sequence_length=x3)\n",
    "        # total2 = paddle.squeeze(total2,axis=0)\n",
    "        # match_vec = paddle.fluid.layers.gather(total2,x4)\n",
    "        # total2 = paddle.concat([total2,match_vec],axis=-1)\n",
    "        # total2 = paddle.unsqueeze(total2,axis=0)\n",
    "        # total = paddle.concat([total1,total2],axis=-1)\n",
    "        # total4,(_,_)= self.lstm4(total,sequence_length=x3)\n",
    "        out = self.linear1(total2)\n",
    "        out = self.relu(out)\n",
    "        # out = self.linear2(out)\n",
    "        # out = self.relu(out)\n",
    "        out = self.linear3(out)\n",
    "        # out = self.relu(out)\n",
    "        out = self.softmax(out)\n",
    "        return out[:,:,0]\n"
   ]
  },
  {
   "cell_type": "code",
   "execution_count": null,
   "metadata": {
    "collapsed": false
   },
   "outputs": [],
   "source": [
    "\n",
    "dataset = MyDataset(500,4750,train_rna_list,train_rna_twodimen,train_rna_out)\n",
    "validdataset = MyDataset(500,250,valid_rna_list,valid_rna_twodimen,valid_rna_out)"
   ]
  },
  {
   "cell_type": "code",
   "execution_count": null,
   "metadata": {
    "collapsed": false
   },
   "outputs": [],
   "source": [
    "def train(dataset,epoch_num,valid_rna_list,valid_rna_twodimen,valid_rna_out):\n",
    "    print('训练开始')\n",
    "    #实例化模型\n",
    "    model = MyModel()\n",
    "    #将模型转换为训练模式\n",
    "    model.train()\n",
    "    #设置优化器，学习率，并且把模型参数给优化器\n",
    "    opt = paddle.optimizer.Adam(learning_rate=0.0001,parameters=model.parameters())\n",
    "    #设置损失函数\n",
    "    mse_loss = paddle.nn.MSELoss()\n",
    "    #设置数据读取器\n",
    "    data_reader = paddle.io.DataLoader(dataset,\n",
    "                        batch_size=64,\n",
    "                        shuffle=True)\n",
    "    # validdata_reader = paddle.io.DataLoader(validdataset,\n",
    "    #                     batch_size=10,\n",
    "    #                     shuffle=True)\n",
    "    iter_epoch = []\n",
    "    best_valid_loss = 1000\n",
    "    best_path = None\n",
    "    history_loss = []\n",
    "    # tr_pos_enc = paddle.to_tensor(position_enc(500,128),dtype='float32')\n",
    "    for epoch in range(epoch_num):\n",
    "        print(epoch)\n",
    "        model.train()\n",
    "        tmp_epoch_loss = []\n",
    "        for batch_id, data in enumerate(tqdm(data_reader())):\n",
    "            # print(data)\n",
    "            x1 = data[0]\n",
    "            x2 = data[1]\n",
    "            y = paddle.to_tensor(data[2],dtype='float32')\n",
    "            x3 = data[3]\n",
    "            out = model(x1,x2,x3)\n",
    "            # print(out.shape)\n",
    "            # print(y.shape)\n",
    "            # return\n",
    "            avg_loss= 0\n",
    "            # print(x3)\n",
    "            for l in range(x1.shape[0]):\n",
    "                # print(x3[l].numpy()[0])\n",
    "                avg_loss += mse_loss(out[l,:int(x3[l].numpy()[0])],y[l,:int(x3[l].numpy()[0])])\n",
    "            # avg_loss = mse_loss(out,y)\n",
    "            avg_loss /= x1.shape[0]\n",
    "            avg_loss.backward()\n",
    "            tmp_epoch_loss.append(avg_loss.numpy()[0])\n",
    "            opt.step()\n",
    "            opt.clear_grad()\n",
    "        print(f'epoch {epoch}:loss:{np.mean(tmp_epoch_loss)}')\n",
    "        iter_epoch.append(epoch)\n",
    "        history_loss.append(np.mean(tmp_epoch_loss))\n",
    "        model.eval()\n",
    "        valid_avg_loss = 0\n",
    "        for i in tqdm(range(len(valid_rna_list))):\n",
    "            x1 = paddle.to_tensor(np.array(valid_rna_list[i]).reshape((1,-1)),dtype='int32')\n",
    "            x2 = paddle.to_tensor(np.array(valid_rna_twodimen[i]).reshape((1,-1)),dtype='int32')\n",
    "            y = paddle.to_tensor(np.array(valid_rna_out[i]),dtype='float32')\n",
    "            out = model(x1,x2,paddle.to_tensor([len(valid_rna_list[i])]))\n",
    "            valid_avg_loss+= mse_loss(out,y)\n",
    "            # valid_avg_loss/=x1.shape[0]\n",
    "        tmp_valid_loss = valid_avg_loss.numpy()[0]/len(valid_rna_list)\n",
    "        print(f'epoch {epoch}:val_loss:{tmp_valid_loss}')\n",
    "        if tmp_valid_loss<best_valid_loss:\n",
    "            best_valid_loss = tmp_valid_loss\n",
    "            if best_path is not None:\n",
    "                if os.path.exists(best_path):\n",
    "                        os.remove(best_path)\n",
    "            best_path=f'pretrain/model_val_{best_valid_loss}'\n",
    "            paddle.save(model.state_dict(),best_path)\n",
    "    #绘制loss\n",
    "    plt.plot(iter_epoch,history_loss, label = 'loss')\n",
    "    plt.legend()\n",
    "    plt.xlabel('iters')\n",
    "    plt.ylabel('Loss')\n",
    "    plt.show()"
   ]
  },
  {
   "cell_type": "code",
   "execution_count": null,
   "metadata": {
    "collapsed": false
   },
   "outputs": [
    {
     "name": "stderr",
     "output_type": "stream",
     "text": [
      "/opt/conda/envs/python35-paddle120-env/lib/python3.7/site-packages/paddle/fluid/dataloader/dataloader_iter.py:89: DeprecationWarning: `np.bool` is a deprecated alias for the builtin `bool`. To silence this warning, use `bool` by itself. Doing this will not modify any behavior and is safe. If you specifically wanted the numpy scalar type, use `np.bool_` here.\n",
      "Deprecated in NumPy 1.20; for more details and guidance: https://numpy.org/devdocs/release/1.20.0-notes.html#deprecations\n",
      "  if isinstance(slot[0], (np.ndarray, np.bool, numbers.Number)):\n",
      "  4%|▍         | 3/75 [00:01<00:32,  2.19it/s]"
     ]
    },
    {
     "name": "stdout",
     "output_type": "stream",
     "text": [
      "0\n"
     ]
    },
    {
     "name": "stderr",
     "output_type": "stream",
     "text": [
      "100%|██████████| 75/75 [00:27<00:00,  2.73it/s]\n",
      "  0%|          | 0/250 [00:00<?, ?it/s]/opt/conda/envs/python35-paddle120-env/lib/python3.7/site-packages/paddle/tensor/creation.py:143: DeprecationWarning: `np.object` is a deprecated alias for the builtin `object`. To silence this warning, use `object` by itself. Doing this will not modify any behavior and is safe. \n",
      "Deprecated in NumPy 1.20; for more details and guidance: https://numpy.org/devdocs/release/1.20.0-notes.html#deprecations\n",
      "  if data.dtype == np.object:\n",
      "  1%|          | 2/250 [00:00<00:22, 11.01it/s]"
     ]
    },
    {
     "name": "stdout",
     "output_type": "stream",
     "text": [
      "epoch 0:loss:0.19863837957382202\n"
     ]
    },
    {
     "name": "stderr",
     "output_type": "stream",
     "text": [
      "  6%|▌         | 14/250 [00:01<00:17, 13.75it/s] 51%|█████     | 128/250 [00:08<00:08, 14.56it/s]\n"
     ]
    }
   ],
   "source": [
    "train(dataset,12,valid_rna_list,valid_rna_twodimen,valid_rna_out)"
   ]
  },
  {
   "cell_type": "code",
   "execution_count": null,
   "metadata": {
    "collapsed": false
   },
   "outputs": [],
   "source": [
    "test_rna_list,test_rna_twodimen,test_rna_out= filepreprocessBrank('data/data68535/B_board_112_seqs.txt','test')"
   ]
  },
  {
   "cell_type": "markdown",
   "metadata": {
    "collapsed": false
   },
   "source": []
  },
  {
   "cell_type": "code",
   "execution_count": null,
   "metadata": {
    "collapsed": false
   },
   "outputs": [],
   "source": [
    "def test(test_rna_list,test_rna_twodimen):\n",
    "    print('预测开始')\n",
    "    #实例化模型\n",
    "    model = MyModel()\n",
    "    layer_state_dict = paddle.load('pretrain/model3.717')\n",
    "    model.load_dict(layer_state_dict)\n",
    "    model.eval()   # 预测\n",
    "    total_loss = []\n",
    "    datas = []\n",
    "    # 预测所有正常时序\n",
    "    mse_loss = paddle.nn.loss.MSELoss()\n",
    "    # 这里设置batch_size为1，单独求得每个数据的loss\n",
    "    for i in tqdm(range(len(test_rna_list))):\n",
    "        # pos_enc = paddle.to_tensor(position_enc(len(test_rna_list[i]),128),dtype='float32')\n",
    "        # print(len(test_rna_list[i]))\n",
    "        # print(len(test_rna_twodimen[i]))\n",
    "        out = model(paddle.Tensor(np.array([test_rna_list[i]]).reshape((1,-1))),paddle.Tensor(np.array([test_rna_twodimen[i]]).reshape((1,-1))),paddle.to_tensor([len(test_rna_list[i])]))\n",
    "        out = out.numpy()\n",
    "        out = np.reshape(out,(-1,1))\n",
    "        np.savetxt(f'predictB/{i+1}.predict.txt',out,fmt='%.04f')"
   ]
  },
  {
   "cell_type": "code",
   "execution_count": null,
   "metadata": {
    "collapsed": false
   },
   "outputs": [],
   "source": []
  },
  {
   "cell_type": "code",
   "execution_count": null,
   "metadata": {
    "collapsed": false
   },
   "outputs": [
    {
     "name": "stderr",
     "output_type": "stream",
     "text": [
      "  1%|          | 1/112 [00:00<00:16,  6.67it/s]"
     ]
    },
    {
     "name": "stdout",
     "output_type": "stream",
     "text": [
      "预测开始\n"
     ]
    },
    {
     "name": "stderr",
     "output_type": "stream",
     "text": [
      "  2%|▏         | 2/112 [00:00<00:16,  6.69it/s]100%|██████████| 112/112 [00:10<00:00, 10.31it/s]\n"
     ]
    }
   ],
   "source": [
    "test(test_rna_list,test_rna_twodimen)"
   ]
  },
  {
   "cell_type": "code",
   "execution_count": null,
   "metadata": {
    "collapsed": false
   },
   "outputs": [],
   "source": []
  },
  {
   "cell_type": "code",
   "execution_count": null,
   "metadata": {
    "collapsed": false
   },
   "outputs": [
    {
     "name": "stdout",
     "output_type": "stream",
     "text": [
      "Tensor(shape=[1, 2, 3], dtype=int32, place=CUDAPlace(0), stop_gradient=True,\n",
      "       [[[1, 2, 3],\n",
      "         [1, 2, 3]]])\n"
     ]
    }
   ],
   "source": [
    "data = paddle.to_tensor([1, 2, 3], dtype='int32')\n",
    "out = paddle.expand(data, shape=[1,2, 3])\n",
    "print(out)"
   ]
  },
  {
   "cell_type": "code",
   "execution_count": null,
   "metadata": {
    "collapsed": false
   },
   "outputs": [],
   "source": []
  },
  {
   "cell_type": "code",
   "execution_count": null,
   "metadata": {
    "collapsed": false
   },
   "outputs": [],
   "source": []
  }
 ],
 "metadata": {
  "kernelspec": {
   "display_name": "PaddlePaddle 2.0.0b0 (Python 3.5)",
   "language": "python",
   "name": "py35-paddle1.2.0"
  },
  "language_info": {
   "codemirror_mode": {
    "name": "ipython",
    "version": 3
   },
   "file_extension": ".py",
   "mimetype": "text/x-python",
   "name": "python",
   "nbconvert_exporter": "python",
   "pygments_lexer": "ipython3",
   "version": "3.7.4"
  }
 },
 "nbformat": 4,
 "nbformat_minor": 1
}
